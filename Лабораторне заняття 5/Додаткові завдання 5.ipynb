{
 "cells": [
  {
   "cell_type": "markdown",
   "metadata": {},
   "source": [
    "# Додаткові завдання №5"
   ]
  },
  {
   "cell_type": "markdown",
   "metadata": {},
   "source": [
    "## 1 Задача 1.10.10\n",
    "Випадкова величина $\\xi$ має щiльнiсть $p(x) = e^{-2 |x|}$.\n",
    "Обчислити\n",
    "1. $\\mathsf{P}(\\xi < 1)$;\n",
    "2. $\\mathsf{P}(\\xi < 3|\\xi \\geq 2)$;\n",
    "3. $\\mathsf{E}\\xi, \\mathsf{D}\\xi$."
   ]
  },
  {
   "cell_type": "markdown",
   "metadata": {},
   "source": [
    "### 1.1 Завдання 1\n",
    "Реалізуйте випадкову величину $\\xi$ за допомогою класу [scipy.stats.rv_continuous](https://docs.scipy.org/doc/scipy/reference/generated/scipy.stats.rv_continuous.html)."
   ]
  },
  {
   "cell_type": "code",
   "execution_count": 3,
   "metadata": {},
   "outputs": [],
   "source": [
    "# Місце для Вашого коду\n",
    "\n",
    "from scipy.stats import rv_continuous\n",
    "\n",
    "import numpy as np\n",
    "\n",
    "\n",
    "class new_rv(rv_continuous):\n",
    "    \n",
    "    def _pdf(self, x):\n",
    "        return np.exp(-2 * np.abs(x))\n",
    "\n",
    "\n",
    "rv = new_rv()"
   ]
  },
  {
   "cell_type": "markdown",
   "metadata": {},
   "source": [
    "### 1.2 Завдання 2\n",
    "Зобразіть графічно функцію щільності та функцію розподілу отриманої випадкової величини."
   ]
  },
  {
   "cell_type": "code",
   "execution_count": 6,
   "metadata": {},
   "outputs": [
    {
     "data": {
      "image/png": "[encoded data removed]",
      "text/plain": [
       "<Figure size 432x288 with 2 Axes>"
      ]
     },
     "metadata": {
      "needs_background": "light"
     },
     "output_type": "display_data"
    }
   ],
   "source": [
    "# Місце для Вашого коду\n",
    "import matplotlib.pyplot as plt\n",
    "\n",
    "%matplotlib inline\n",
    "\n",
    "x = np.arange(-10, 10, 0.01)\n",
    "\n",
    "y1 = rv.pdf(x)\n",
    "y2 = rv.cdf(x)\n",
    "\n",
    "plt.subplot(1, 2, 1, title='щільність')\n",
    "plt.plot(x, y1)\n",
    "plt.subplot(1, 2, 2, title='розподіл')\n",
    "plt.plot(x, y2)\n",
    "\n",
    "plt.show()"
   ]
  },
  {
   "cell_type": "markdown",
   "metadata": {},
   "source": [
    "### 1.3 Завдання 3\n",
    "Розв'яжіть задачу за допомогою отриманої випадкової величини та порівняйте результати з теоретично розрахованими."
   ]
  },
  {
   "cell_type": "code",
   "execution_count": 7,
   "metadata": {},
   "outputs": [
    {
     "name": "stdout",
     "output_type": "stream",
     "text": [
      "task 1: 0.9323323583816931\n",
      "task 2: 0.8646647167632342\n",
      "task 3:\n",
      "    Ee = 0.0\n",
      "    De = 0.49999999999999994\n"
     ]
    }
   ],
   "source": [
    "# Місце для Вашого коду\n",
    "print(f\"task 1: {rv.cdf(1)}\")\n",
    "\n",
    "# формула умовної імовірності\n",
    "tmp = (rv.cdf(3) - rv.cdf(2)) / (1 - rv.cdf(2))\n",
    "print(f'task 2: {tmp}')\n",
    "\n",
    "print(\"task 3:\")\n",
    "print(f'    Ee = {rv.expect(lambda x: x)}')\n",
    "print(f'    De = {rv.expect(lambda x: x**2) - rv.expect(lambda x: x) ** 2}')\n"
   ]
  }
 ],
 "metadata": {
  "kernelspec": {
   "display_name": "Python 3",
   "language": "python",
   "name": "python3"
  },
  "language_info": {
   "codemirror_mode": {
    "name": "ipython",
    "version": 3
   },
   "file_extension": ".py",
   "mimetype": "text/x-python",
   "name": "python",
   "nbconvert_exporter": "python",
   "pygments_lexer": "ipython3",
   "version": "3.7.4"
  }
 },
 "nbformat": 4,
 "nbformat_minor": 1
}
